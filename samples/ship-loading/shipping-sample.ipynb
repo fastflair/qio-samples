{
 "cells": [
  {
   "cell_type": "markdown",
   "metadata": {},
   "source": [
    "# Optimization Sample: Shipping\n",
    "\n",
    "This notebook follows a sample shipping company that has a difficult business problem: balancing the loads of container ships at port. We'll apply the power of QIO to generate a solution to a simplified version of this problem."
   ]
  },
  {
   "cell_type": "markdown",
   "metadata": {},
   "source": [
    "## Pre-requisites\n",
    "\n",
    "1. [Create an Azure Quantum Workspace](https://github.com/MicrosoftDocs/quantum-docs-private/wiki/Create-quantum-workspaces-with-the-Azure-portal)\n",
    "2. [Install the `azure-quantum` Python module](https://github.com/MicrosoftDocs/quantum-docs-private/wiki/Use-the-Python-SDK-for-Quantum-Inspired-Optimization)."
   ]
  },
  {
   "cell_type": "markdown",
   "metadata": {},
   "source": [
    "\n",
    "## The Problem\n",
    "Contoso Logistics Inc is a world class freight company operating a fleet of large container ships. When these ships are docked at port Contoso Logistics needs to distribute containers between the two ships as evenly as possible. If they make one ship significantly heavier than the other then it will move slower and consume more fuel - delaying shipments and costing a significant amount of money! To make things harder, the weights of individual containers can vary greatly so it's not easy to divide them.\n",
    "\n",
    "This problem is known as the Number partitioning problem and is NP-complete. It is however relatively straightforward to apply Quantum Inspired Optimization (QIO) to it to generate a good solution. Let's explore how.\n",
    "\n",
    "## What does it mean to Optimize?\n",
    "We're using Quantum-Inspired Optimization to solve this problem - but what does that actually mean?\n",
    "\n",
    "In our case, optimize means \"to find a solution with minimal cost\" - which is exactly what the Solvers in Azure Quantum do. They take a representation of a difficult problem and apply techniques from physics to find a solution with the least cost.\n",
    "\n",
    "> Note that solvers can be applied to very difficult problems where it's infeasible to confirm whether the solution found is the best solution that exists. So keep in mind that there may be better solutions than those returned by the solvers.\n",
    "\n",
    "The solvers in Azure Quantum expect a `Binary Optimization Problem`, which is a problem expressed in the following (simplified) format:\n",
    "$$  H = \\Large\\sum_{i} w_{i}x_{i} + \\sum_{i,j} w_{i,j}x_{i}x_{j} $$\n",
    "$$\n",
    "x_{i} \\in \\left\\{\n",
    "        \\begin{array}{ll}\n",
    "            0 & \\quad \\\\\n",
    "            1 & \\quad\n",
    "        \\end{array}\n",
    "    \\right.\n",
    "\\text{or}\\quad\n",
    "x_{i} \\in \\left\\{\n",
    "        \\begin{array}{ll}\n",
    "            1 & \\quad \\\\\n",
    "            -1 & \\quad\n",
    "        \\end{array}\n",
    "    \\right.\n",
    "$$\n",
    "\n",
    "That is, a summation that is composed of weights ${w}$, and binary variables ${x_i}$. Let's explore how you formulate such a problem."
   ]
  },
  {
   "cell_type": "markdown",
   "metadata": {},
   "source": [
    "\n",
    "## Understanding the Problem\n",
    "In the number partitioning problem, we have a set ${W}$ of container weights which we would like to partition into two sets: ${W_a}$ and ${W_b}$ (containers on the ships, ${a}$ and ${b}$). In this section, our goal will be to develop a representation of the problem that we can provide to the QIO solver.\n",
    "\n",
    "## Breaking down the Problem\n",
    "Let's start by coming up with an equation for the weight of a given ship, which is the sum of all the containers on the ship. This is expressed in the below equation, where ${w_i}$ is the weight of container ${i}$:\n",
    "\n",
    "$$ \\Large\\sum_{i} w_{i} $$\n",
    "\n",
    "Ideally, we'd like a solution where the weight difference between the ships is as small as possible. This is expressed by the following expression:\n",
    "\n",
    "$$ H = \\Large\\sum_{i \\in A} w_i - \\Large\\sum_{i \\in B} w_i $$\n",
    "\n",
    "If the value of ${H}$ is zero, we know the ships are equally loaded.\n",
    "\n",
    "Next, we'll introduce a variable, ${x_i}$, to represent whether an individual container ${i}$ is assigned to ship ${a}$ or ship ${b}$. Because we can assign the container ${i}$ to either ship, the variable ${x_i}$ can be take on two different values - which makes it a `binary` variable. For convenience, we'll say the two values it can take on are ${1}$ and ${-1}$. ${1}$ will represent that the container is placed on ship ${a}$, and ${-1}$ will represent that the container is placed on ship ${b}$.\n",
    "\n",
    "> Because of our choice to make ${i}$ be either ${1}$ or ${-1}$ this type of problem is called an `Ising` problem.\n",
    "\n",
    "By introducing this variable ${x_i}$ to the previous equation, it can be simplified to:\n",
    "\n",
    "$$ H = \\Large\\sum_{i \\in A \\cup B} w_ix_i $$\n",
    "\n",
    "where $$ x_i = \\begin{cases} +1 & \\textrm{if   }i \\in A \\\\ -1 & \\textrm{if   }i \\in B \\end{cases} $$\n",
    "\n",
    "The function ${H}$ will be called our `cost function` as it describes the cost of a given solution.\n",
    "\n",
    "> The letter ${H}$ is traditionally used to represent a cost function and is also referred to as a `Hamiltonian` in a nod towards the quantum mechanical roots of Quantum-Inspired Optimization techniques."
   ]
  },
  {
   "cell_type": "markdown",
   "metadata": {},
   "source": [
    "## The final model\n",
    "There's one last change we need to make before we can solve our problem. If we look at our cost function ${H}$ there's a flaw: the solution with the _least_ cost is to simply assign all containers to ship ${b}$ by setting all ${x_i}={-1}$ - that's not right! To fix this we'll take a simple step - we'll square the right hand side of the equation so that it cannot be negative:\n",
    "\n",
    "$$ H^{2} = \\Large(\\sum_{i \\in A \\cup B} w_{i} x_{i})^{2} $$\n",
    "\n",
    "This is somewhat arbitrary, but it yields a cost function with the right properties:\n",
    "- If all the containers are on one ship, the function is at its highest value - reflecting that this is the least optimal solution\n",
    "- If the containers are perfectly balanced, the value of the summation inside the square is ${0}$ - the function is at its lowest value\n",
    "- In this case, we don't care about the actual value of ${H}$, just that it's as small as possible.\n",
    "\n",
    "Next, let's express this problem in Python and solve it for a few cases."
   ]
  },
  {
   "cell_type": "markdown",
   "metadata": {},
   "source": [
    "\n",
    "## Solving the Problem in Python\n",
    "\n",
    "First, we must instantiate a `Workspace` object which allows you to connect to the Workspace you've previously deployed in Azure. Be sure to fill in the settings below which can be retrieved by running `az quantum workspace show`."
   ]
  },
  {
   "cell_type": "code",
   "execution_count": 1,
   "metadata": {},
   "outputs": [
    {
     "output_type": "execute_result",
     "data": {
      "text/plain": [
       "<msrest.authentication.BasicTokenAuthentication at 0x28efdfdc040>"
      ]
     },
     "metadata": {},
     "execution_count": 1
    }
   ],
   "source": [
    "from azure.quantum import Workspace\n",
    "\n",
    "# Copy the settings for your workspace below\n",
    "workspace = Workspace (\n",
    "    subscription_id = \"\",  # Add your subscription_id\n",
    "    resource_group = \"\",   # Add your resource_group\n",
    "    name = \"\",             # Add your workspace name\n",
    "    location = \"\"          # Add your workspace name\n",
    ")\n",
    "\n",
    "workspace.login()"
   ]
  },
  {
   "cell_type": "markdown",
   "metadata": {},
   "source": [
    "Next, we'll define a function that takes an array of container weights and returns a `Problem` object that represents the cost function."
   ]
  },
  {
   "cell_type": "code",
   "execution_count": 2,
   "metadata": {},
   "outputs": [],
   "source": [
    "from typing import List\n",
    "from azure.quantum.optimization import Problem, ProblemType, Term\n",
    "\n",
    "def create_problem_for_container_weights(container_weights: List[int]) -> Problem:\n",
    "    terms: List[Term] = []\n",
    "\n",
    "    # Expand the squared summation\n",
    "    for i in range(len(container_weights)):\n",
    "        for j in range(len(container_weights)):\n",
    "            if i == j:\n",
    "                # Skip the terms where i == j as they form constant terms in an Ising problem and can be disregarded:\n",
    "                # w_i∗w_j∗x_i∗x_j = w_i​*w_j∗(x_i)^2 = w_i∗w_j​​\n",
    "                # for x_i = x_j, x_i ∈ {1, -1}\n",
    "                continue\n",
    "            \n",
    "            terms.append(\n",
    "                Term(\n",
    "                    c = container_weights[i] * container_weights[j],\n",
    "                    indices = [i, j]\n",
    "                )\n",
    "            )\n",
    "\n",
    "    # Return an Ising-type problem\n",
    "    return Problem(name=\"Ship Sample Problem\", problem_type=ProblemType.ising, terms=terms)"
   ]
  },
  {
   "cell_type": "markdown",
   "metadata": {},
   "source": [
    "Next, we'll define the list of containers and their weights and instantiate a problem:"
   ]
  },
  {
   "cell_type": "code",
   "execution_count": 3,
   "metadata": {},
   "outputs": [],
   "source": [
    "# This array contains a list of the weights of the containers\n",
    "container_weights = [1, 5, 9, 21, 35, 5, 3, 5, 10, 11]\n",
    "\n",
    "# Create a problem for the list of containers:\n",
    "problem = create_problem_for_container_weights(container_weights)"
   ]
  },
  {
   "cell_type": "markdown",
   "metadata": {},
   "source": [
    "Now, submit it to Azure using the ParallelTempering solver:\n",
    "\n",
    "> We'll use Parameter-Free Parallel Tempering with a timeout of 100 seconds. Solver selection and tuning is beyond the scope of this tutorial."
   ]
  },
  {
   "cell_type": "code",
   "execution_count": 4,
   "metadata": {},
   "outputs": [
    {
     "output_type": "stream",
     "name": "stdout",
     "text": [
      "Submitting problem...\n",
      ".Result in 8.879977226257324 seconds:  {'version': '1.0', 'configuration': {'0': 1, '1': -1, '2': 1, '3': 1, '4': -1, '5': -1, '6': -1, '7': -1, '8': 1, '9': 1}, 'cost': -2052.0, 'parameters': {'all_betas': [0.00020408163265306123, 0.0010031845282727856, 0.004931258069052868, 0.024240112818991428, 0.00020408163265306123, 0.00041416312947479666, 0.0008405023793001501, 0.0017057149691356173, 0.0034615768230851457, 0.007024921700835206, 0.014256371424073268, 0.028931870679351317, 0.058714319100389226, 0.00020408163265306123, 0.0003216601955060876, 0.000506979878727771, 0.0007990687098552142, 0.0012594401274306443, 0.001985047612326009, 0.003128702935041415, 0.0049312580690528685, 0.007772328229454337, 0.012250238227336452, 0.019308028713685834, 0.030432059025318557, 0.04796503207311015, 0.07559936381105262, 0.00020408163265306123, 0.0002853639172320586, 0.0003990195697643234, 0.0005579423586529702, 0.000780161423569038, 0.0010908866075247, 0.0015253684103382742, 0.0021328970135012235, 0.0029823940494438134, 0.004170231478526455, 0.0058311645933360684, 0.008153619454858395, 0.011401069057563778, 0.015941923261808107, 0.022291323383991948, 0.031169582869598398, 0.043583903904173556, 0.06094264037716683, 0.08521506986401543, 0.00020408163265306123, 0.0002661133962019146, 0.0003470000642267741, 0.0004524726913109797, 0.0005900043184095882, 0.0007693394594342792, 0.0010031845282727856, 0.001308108124995844, 0.0017057149691356171, 0.002224176656606702, 0.002900227698828882, 0.0037817682692016645, 0.004931258069052867, 0.006430141778288393, 0.0083846196467327, 0.010933172089261346, 0.01425637142407326, 0.018589675944162696, 0.02424011281899142, 0.031608031858238926, 0.04121547145476594, 0.05374314651596505, 0.0700786790855087, 0.09137948893466513], 'replicas': 70, 'sweeps': 600}}\n"
     ]
    }
   ],
   "source": [
    "from azure.quantum.optimization import ParallelTempering\n",
    "import time\n",
    "\n",
    "# Instantiate a solver to solve the problem. \n",
    "solver = ParallelTempering(workspace, timeout=100)\n",
    "\n",
    "# Optimize the problem\n",
    "print('Submitting problem...')\n",
    "start = time.time()\n",
    "result = solver.optimize(problem)\n",
    "time_elapsed = time.time() - start\n",
    "print(f'Result in {time_elapsed} seconds: ', result)"
   ]
  },
  {
   "cell_type": "markdown",
   "metadata": {},
   "source": [
    "Lastly, print out a summary of what the solution means:"
   ]
  },
  {
   "cell_type": "code",
   "execution_count": 5,
   "metadata": {},
   "outputs": [
    {
     "output_type": "stream",
     "name": "stdout",
     "text": [
      "Container 0 with weight 1 was placed on Ship A\nContainer 1 with weight 5 was placed on Ship B\nContainer 2 with weight 9 was placed on Ship A\nContainer 3 with weight 21 was placed on Ship A\nContainer 4 with weight 35 was placed on Ship B\nContainer 5 with weight 5 was placed on Ship B\nContainer 6 with weight 3 was placed on Ship B\nContainer 7 with weight 5 was placed on Ship B\nContainer 8 with weight 10 was placed on Ship A\nContainer 9 with weight 11 was placed on Ship A\n\nTotal weights: \n\tShip A: 52 tonnes \n\tShip B: 53 tonnes\n\n"
     ]
    }
   ],
   "source": [
    "def print_result_summary(result):\n",
    "    # Print a summary of the result\n",
    "    ship_a_weight = 0\n",
    "    ship_b_weight = 0\n",
    "    for container in result['configuration']:\n",
    "        container_assignment = result['configuration'][container]\n",
    "        container_weight = container_weights[int(container)]\n",
    "        ship = ''\n",
    "        if container_assignment == 1:\n",
    "            ship = 'A'\n",
    "            ship_a_weight += container_weight\n",
    "        else:\n",
    "            ship = 'B'\n",
    "            ship_b_weight += container_weight\n",
    "\n",
    "        print(f'Container {container} with weight {container_weight} was placed on Ship {ship}')\n",
    "\n",
    "    print(f'\\nTotal weights: \\n\\tShip A: {ship_a_weight} tonnes \\n\\tShip B: {ship_b_weight} tonnes\\n')\n",
    "\n",
    "print_result_summary(result)"
   ]
  },
  {
   "cell_type": "markdown",
   "metadata": {},
   "source": [
    "## Improving the Cost Function\n",
    "The cost function we've built works well so far, but let's take a closer look at the `Problem` that was generated:\n"
   ]
  },
  {
   "cell_type": "code",
   "execution_count": 6,
   "metadata": {},
   "outputs": [
    {
     "output_type": "stream",
     "name": "stdout",
     "text": [
      "The problem has 90 terms for 10 containers:\n[{'c': 5, 'ids': [0, 1]}, {'c': 9, 'ids': [0, 2]}, {'c': 21, 'ids': [0, 3]}, {'c': 35, 'ids': [0, 4]}, {'c': 5, 'ids': [0, 5]}, {'c': 3, 'ids': [0, 6]}, {'c': 5, 'ids': [0, 7]}, {'c': 10, 'ids': [0, 8]}, {'c': 11, 'ids': [0, 9]}, {'c': 5, 'ids': [1, 0]}, {'c': 45, 'ids': [1, 2]}, {'c': 105, 'ids': [1, 3]}, {'c': 175, 'ids': [1, 4]}, {'c': 25, 'ids': [1, 5]}, {'c': 15, 'ids': [1, 6]}, {'c': 25, 'ids': [1, 7]}, {'c': 50, 'ids': [1, 8]}, {'c': 55, 'ids': [1, 9]}, {'c': 9, 'ids': [2, 0]}, {'c': 45, 'ids': [2, 1]}, {'c': 189, 'ids': [2, 3]}, {'c': 315, 'ids': [2, 4]}, {'c': 45, 'ids': [2, 5]}, {'c': 27, 'ids': [2, 6]}, {'c': 45, 'ids': [2, 7]}, {'c': 90, 'ids': [2, 8]}, {'c': 99, 'ids': [2, 9]}, {'c': 21, 'ids': [3, 0]}, {'c': 105, 'ids': [3, 1]}, {'c': 189, 'ids': [3, 2]}, {'c': 735, 'ids': [3, 4]}, {'c': 105, 'ids': [3, 5]}, {'c': 63, 'ids': [3, 6]}, {'c': 105, 'ids': [3, 7]}, {'c': 210, 'ids': [3, 8]}, {'c': 231, 'ids': [3, 9]}, {'c': 35, 'ids': [4, 0]}, {'c': 175, 'ids': [4, 1]}, {'c': 315, 'ids': [4, 2]}, {'c': 735, 'ids': [4, 3]}, {'c': 175, 'ids': [4, 5]}, {'c': 105, 'ids': [4, 6]}, {'c': 175, 'ids': [4, 7]}, {'c': 350, 'ids': [4, 8]}, {'c': 385, 'ids': [4, 9]}, {'c': 5, 'ids': [5, 0]}, {'c': 25, 'ids': [5, 1]}, {'c': 45, 'ids': [5, 2]}, {'c': 105, 'ids': [5, 3]}, {'c': 175, 'ids': [5, 4]}, {'c': 15, 'ids': [5, 6]}, {'c': 25, 'ids': [5, 7]}, {'c': 50, 'ids': [5, 8]}, {'c': 55, 'ids': [5, 9]}, {'c': 3, 'ids': [6, 0]}, {'c': 15, 'ids': [6, 1]}, {'c': 27, 'ids': [6, 2]}, {'c': 63, 'ids': [6, 3]}, {'c': 105, 'ids': [6, 4]}, {'c': 15, 'ids': [6, 5]}, {'c': 15, 'ids': [6, 7]}, {'c': 30, 'ids': [6, 8]}, {'c': 33, 'ids': [6, 9]}, {'c': 5, 'ids': [7, 0]}, {'c': 25, 'ids': [7, 1]}, {'c': 45, 'ids': [7, 2]}, {'c': 105, 'ids': [7, 3]}, {'c': 175, 'ids': [7, 4]}, {'c': 25, 'ids': [7, 5]}, {'c': 15, 'ids': [7, 6]}, {'c': 50, 'ids': [7, 8]}, {'c': 55, 'ids': [7, 9]}, {'c': 10, 'ids': [8, 0]}, {'c': 50, 'ids': [8, 1]}, {'c': 90, 'ids': [8, 2]}, {'c': 210, 'ids': [8, 3]}, {'c': 350, 'ids': [8, 4]}, {'c': 50, 'ids': [8, 5]}, {'c': 30, 'ids': [8, 6]}, {'c': 50, 'ids': [8, 7]}, {'c': 110, 'ids': [8, 9]}, {'c': 11, 'ids': [9, 0]}, {'c': 55, 'ids': [9, 1]}, {'c': 99, 'ids': [9, 2]}, {'c': 231, 'ids': [9, 3]}, {'c': 385, 'ids': [9, 4]}, {'c': 55, 'ids': [9, 5]}, {'c': 33, 'ids': [9, 6]}, {'c': 55, 'ids': [9, 7]}, {'c': 110, 'ids': [9, 8]}]\n"
     ]
    }
   ],
   "source": [
    "print(f'The problem has {len(problem.terms)} terms for {len(container_weights)} containers:')\n",
    "print(problem.terms)"
   ]
  },
  {
   "cell_type": "markdown",
   "metadata": {},
   "source": [
    "That's alot of terms for just 10 containers! On closer inspection however, you'll note that there are essentially duplicated terms that result from having squared the right hand side of the equation. For example, look at the last term: `{'w': 110, 'ids': [9, 8]}`. If you look through the rest of the terms, you'll find a symmetrical copy of this term: `{'w': 110, 'ids': [8, 9]}`.\n",
    "\n",
    "This duplicate encodes the exact same information in our cost function. However, because we don't actually care about the value of the cost function (just the shape), we can omit these terms too by a slight modification to our cost function:\n",
    "\n",
    "$$ H^2 = \\Large(\\sum_{i<j} w_{i} x_{i})^2 $$\n",
    "\n",
    "In code, this means a small modification to the `create_simplified_problem_for_container_weights` function:"
   ]
  },
  {
   "cell_type": "code",
   "execution_count": 7,
   "metadata": {},
   "outputs": [],
   "source": [
    "def create_simplified_problem_for_container_weights(container_weights: List[int]) -> Problem:\n",
    "    terms: List[Term] = []\n",
    "\n",
    "    # Expand the squared summation\n",
    "    for i in range(len(container_weights)-1):\n",
    "        for j in range(i+1, len(container_weights)):\n",
    "            terms.append(\n",
    "                Term(\n",
    "                    c = container_weights[i] * container_weights[j],\n",
    "                    indices = [i, j]\n",
    "                )\n",
    "            )\n",
    "\n",
    "    # Return an Ising-type problem\n",
    "    return Problem(name=\"Ship Sample Problem (Simplified)\", problem_type=ProblemType.ising, terms=terms)"
   ]
  },
  {
   "cell_type": "markdown",
   "metadata": {},
   "source": [
    "Let's check that this creates a smaller problem:"
   ]
  },
  {
   "cell_type": "code",
   "execution_count": 8,
   "metadata": {},
   "outputs": [
    {
     "output_type": "stream",
     "name": "stdout",
     "text": [
      "The simplified problem has 45 terms\n"
     ]
    }
   ],
   "source": [
    "# Create the simplified problem\n",
    "simplified_problem = create_simplified_problem_for_container_weights(container_weights)\n",
    "print(f'The simplified problem has {len(simplified_problem.terms)} terms')"
   ]
  },
  {
   "cell_type": "markdown",
   "metadata": {},
   "source": [
    "Success! The problem has half as many terms. Now let's run it and verify the result:"
   ]
  },
  {
   "cell_type": "code",
   "execution_count": 9,
   "metadata": {},
   "outputs": [
    {
     "output_type": "stream",
     "name": "stdout",
     "text": [
      "Submitting simplified problem...\n",
      "..Result in 9.023997783660889 seconds:\n",
      "{'version': '1.0', 'configuration': {'0': 1, '1': -1, '2': 1, '3': 1, '4': -1, '5': -1, '6': -1, '7': -1, '8': 1, '9': 1}, 'cost': -1026.0, 'parameters': {'all_betas': [0.00040816326530612246, 0.002006369056545571, 0.009862516138105735, 0.048480225637982856, 0.00040816326530612246, 0.0008283262589495933, 0.0016810047586003002, 0.0034114299382712347, 0.006923153646170291, 0.014049843401670412, 0.028512742848146536, 0.05786374135870263, 0.11742863820077845, 0.00040816326530612246, 0.0006433203910121752, 0.001013959757455542, 0.0015981374197104284, 0.0025188802548612886, 0.003970095224652018, 0.00625740587008283, 0.009862516138105737, 0.015544656458908674, 0.024500476454672904, 0.03861605742737167, 0.060864118050637114, 0.0959300641462203, 0.15119872762210523, 0.00040816326530612246, 0.0005707278344641172, 0.0007980391395286468, 0.0011158847173059405, 0.001560322847138076, 0.0021817732150494, 0.0030507368206765485, 0.004265794027002447, 0.005964788098887627, 0.00834046295705291, 0.011662329186672137, 0.01630723890971679, 0.022802138115127556, 0.03188384652361621, 0.044582646767983895, 0.062339165739196796, 0.08716780780834711, 0.12188528075433366, 0.17043013972803087, 0.00040816326530612246, 0.0005322267924038292, 0.0006940001284535482, 0.0009049453826219594, 0.0011800086368191764, 0.0015386789188685584, 0.002006369056545571, 0.002616216249991688, 0.0034114299382712343, 0.004448353313213404, 0.005800455397657764, 0.007563536538403329, 0.009862516138105733, 0.012860283556576787, 0.0167692392934654, 0.021866344178522693, 0.02851274284814652, 0.03717935188832539, 0.04848022563798284, 0.06321606371647785, 0.08243094290953187, 0.1074862930319301, 0.1401573581710174, 0.18275897786933026], 'replicas': 70, 'sweeps': 600}}\n",
      "\n",
      "Container 0 with weight 1 was placed on Ship A\n",
      "Container 1 with weight 5 was placed on Ship B\n",
      "Container 2 with weight 9 was placed on Ship A\n",
      "Container 3 with weight 21 was placed on Ship A\n",
      "Container 4 with weight 35 was placed on Ship B\n",
      "Container 5 with weight 5 was placed on Ship B\n",
      "Container 6 with weight 3 was placed on Ship B\n",
      "Container 7 with weight 5 was placed on Ship B\n",
      "Container 8 with weight 10 was placed on Ship A\n",
      "Container 9 with weight 11 was placed on Ship A\n",
      "\n",
      "Total weights: \n",
      "\tShip A: 52 tonnes \n",
      "\tShip B: 53 tonnes\n",
      "\n"
     ]
    }
   ],
   "source": [
    "# Optimize the problem\n",
    "print('Submitting simplified problem...')\n",
    "start = time.time()\n",
    "simplified_result = solver.optimize(simplified_problem)\n",
    "time_elapsed_simplified = time.time() - start\n",
    "print(f'Result in {time_elapsed_simplified} seconds:\\n{simplified_result}\\n')\n",
    "print_result_summary(simplified_result)\n"
   ]
  },
  {
   "cell_type": "markdown",
   "metadata": {},
   "source": [
    "As you can see, the quality of the solution is the same for both cost functions - the ships are loaded within 1 tonne of each other (a perfect solution does not exist). This reveals an important fact about using QIO solvers: it is often possible (and neccesary) to optimize the cost function in order to generate more optimal solutions more quickly."
   ]
  }
 ],
 "metadata": {
  "kernelspec": {
   "display_name": "Python 3",
   "language": "python",
   "name": "python3"
  }
 },
 "nbformat": 4,
 "nbformat_minor": 2
}